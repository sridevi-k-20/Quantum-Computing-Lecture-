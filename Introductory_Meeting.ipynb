{
 "cells": [
  {
   "cell_type": "markdown",
   "id": "3e56e476-6b12-4d61-acb5-b5f6421626e3",
   "metadata": {},
   "source": [
    "## General Academic Background\n",
    "- Schooling - Kendriya Vidyalaya, Kalpakkam, Tamil Nadu, India\n",
    "- BS-MS Dual Degree - Indian Institute of Science Education and Research (IISER Bhopal)\n",
    "- PhD in Physics - University of Strathclyde, Glasgow\n",
    "- Post Doctoral Researcher - University of Oxford"
   ]
  },
  {
   "cell_type": "markdown",
   "id": "882628af-67c3-434f-83b3-0f0d95655b11",
   "metadata": {},
   "source": [
    "![My Plot](Figures/Background.png)"
   ]
  },
  {
   "cell_type": "markdown",
   "id": "4d2e35cd-c1c4-4c3a-a6a6-11edcac8f3cd",
   "metadata": {},
   "source": [
    "## Research Interests\n",
    "- Varied Interests in the last 10 Years\n",
    "- Worked in Astrophysics, and High energy physics.\n",
    "- Currently working in Quantum Information Theory"
   ]
  },
  {
   "cell_type": "markdown",
   "id": "494c7fcf-dd74-454c-9a31-c1da07547e4a",
   "metadata": {},
   "source": [
    "## Introductory remarks from the Student\n",
    "- Does the student enjoy physics and mathematics?\n",
    "- What aspect of each does the student like?\n",
    "- What is the student currently studying in Matheamtics and Physics in school?\n",
    "- Follow up on that"
   ]
  },
  {
   "cell_type": "markdown",
   "id": "f5e89e2f-14d7-4adc-a835-df69435397fd",
   "metadata": {},
   "source": [
    "## Prerequiste \n",
    " - Electricity, magnetism and wave theory from high school level (helpful)\n",
    " - Modern Physics - Photoelectric effect, wave/particle duality (not important, but great if you do)\n",
    " - Mathematics: Basic Probability, Matrix Manipulation, and Vector alegbra"
   ]
  },
  {
   "cell_type": "markdown",
   "id": "57381798-a75c-498c-895a-ffccce162d0d",
   "metadata": {},
   "source": [
    "## Learning Objectives\n",
    "- Understand Superposition (classical vs quantum)\n",
    "- Understand differences between classical bit and quantum bit\n",
    "- Understand Stern Gerlach experiment (if time permits)\n",
    "- Understand the basics of entanglement\n",
    "- Quantum Gates and exercises to understand its implementation\n",
    "- Set up IBM qiskit platform to run small quantum circuit implementations (If time permits) "
   ]
  },
  {
   "cell_type": "markdown",
   "id": "08706b6c-a009-4128-acb4-ab23cac8cd8c",
   "metadata": {},
   "source": [
    "### What is the student most interested in researching about? \n"
   ]
  },
  {
   "cell_type": "code",
   "execution_count": null,
   "id": "fd51ae6f-b0b5-4318-a3bd-e0a04a811a27",
   "metadata": {},
   "outputs": [],
   "source": []
  },
  {
   "cell_type": "markdown",
   "id": "aaa605ee-f857-4028-825d-bc50ff07a6de",
   "metadata": {},
   "source": [
    "## Goal\n",
    "- Design a quantum game (similar to quantum tic tac toe and quantum chess)\n",
    "- Write up the rules which should contain the aspects of entanglement and superposition in an article format."
   ]
  },
  {
   "cell_type": "code",
   "execution_count": null,
   "id": "b3533b8b-cae1-4df2-969d-46541703ccc8",
   "metadata": {},
   "outputs": [],
   "source": []
  }
 ],
 "metadata": {
  "kernelspec": {
   "display_name": "Python 3 (ipykernel)",
   "language": "python",
   "name": "python3"
  },
  "language_info": {
   "codemirror_mode": {
    "name": "ipython",
    "version": 3
   },
   "file_extension": ".py",
   "mimetype": "text/x-python",
   "name": "python",
   "nbconvert_exporter": "python",
   "pygments_lexer": "ipython3",
   "version": "3.8.19"
  }
 },
 "nbformat": 4,
 "nbformat_minor": 5
}
