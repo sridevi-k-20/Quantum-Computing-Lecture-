{
 "cells": [
  {
   "cell_type": "markdown",
   "id": "2c8c7ad7-52bd-455a-a5ed-9c9c3d4829d8",
   "metadata": {},
   "source": [
    "## Prerequistes\n",
    " - Electricity, magnetism and wave theory from high school level (helpful)\n",
    " - Modern Physics - Photoelectric effect, wave/particle duality (not important, but great if you do)\n",
    " - Mathematics: Basic Probability, Matrix Manipulation, and Vector alegbra\n",
    " - Install Jupyter Notebook https://docs.jupyter.org/en/latest/install/notebook-classic.html (Can be done in ios or windows)\n",
    " - Every week we will have some fun reading activities."
   ]
  },
  {
   "cell_type": "markdown",
   "id": "a86496bd-15bd-42e2-9490-1938336790a9",
   "metadata": {},
   "source": [
    "## Learning Objectives (Flexible)\n",
    "**Lecture 1**\n",
    "- Basic differences between classical and quantum systems\n",
    "      - Uncertainity principle\n",
    "      - Quantization\n",
    "      - Superposition\n",
    "\n",
    "**Lecture 2**\n",
    "- Understand differences between classical bit and quantum bit\n",
    "\n",
    "**Lecture 3**\n",
    "- Understand the basics of entanglement, quantum Gates and exercises to understand its implementation\n",
    "\n",
    "**Lecture 4**\n",
    "-  Discuss the progress and have fun playing quantum tic tac toe\n",
    "- Ask if still comfortable in developing a theoretical quantum game\n",
    "\n",
    "**Lecture 5**\n",
    "- Design small quantum circuits\n",
    "-  Homework to figure out favourite games from childhood to create its quantum version\n",
    "\n",
    "**Lecture 6 - 14**\n",
    "- Talk about the research project and help the student with Latex to write up a paper"
   ]
  },
  {
   "cell_type": "markdown",
   "id": "c4b6b37c-9fe2-46a5-bd32-be1711f6e209",
   "metadata": {},
   "source": [
    "## Materials\n",
    "\n",
    "- https://quantum.cloud.ibm.com/learning/en\n",
    "- https://www.youtube.com/@kurzgesagt ( This is a very nice you tube channel in general for understanding many scientific concepts in a fun way)"
   ]
  },
  {
   "cell_type": "markdown",
   "id": "0b583735-ce9a-4a14-8a76-f29b374a874b",
   "metadata": {},
   "source": [
    "## Goal\n",
    "- Design a quantum game (similar to quantum tic tac toe and quantum chess)\n",
    "- Write up the rules which should contain the aspects of entanglement and superposition in an article format."
   ]
  },
  {
   "cell_type": "code",
   "execution_count": null,
   "id": "9865b3a0-3ac6-4d74-bf6c-e6eaceb1cc47",
   "metadata": {},
   "outputs": [],
   "source": []
  }
 ],
 "metadata": {
  "kernelspec": {
   "display_name": "Python 3 (ipykernel)",
   "language": "python",
   "name": "python3"
  },
  "language_info": {
   "codemirror_mode": {
    "name": "ipython",
    "version": 3
   },
   "file_extension": ".py",
   "mimetype": "text/x-python",
   "name": "python",
   "nbconvert_exporter": "python",
   "pygments_lexer": "ipython3",
   "version": "3.8.19"
  }
 },
 "nbformat": 4,
 "nbformat_minor": 5
}
