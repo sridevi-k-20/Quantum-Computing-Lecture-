{
 "cells": [
  {
   "cell_type": "markdown",
   "id": "59fcec57-3a97-4bdf-a8e1-0c0561b3650d",
   "metadata": {},
   "source": [
    "# Lecture 4 - Quantum Games\n",
    "Many classical games have been transformed into their quantum versions. These quantum games retain the original rules but incorporate quantum concepts such as entanglement, superposition, and measurement. While many examples are available online, we'll start with Quantum Tic Tac Toe."
   ]
  },
  {
   "cell_type": "markdown",
   "id": "21255e15-8aeb-48c6-9b4d-ef0ababade16",
   "metadata": {},
   "source": [
    "## Classical Tic Tac Toe\n",
    "Let us start with classical tic tac toe. Rules are simple and is as follows\n",
    "- The objective is to get three of your marks (X or O) in a row—horizontally, vertically, or diagonally.\n",
    "- Play using I-pad **Later insert an image for purposes of git**"
   ]
  },
  {
   "cell_type": "markdown",
   "id": "19f37059-7ef5-4c76-9f0b-f2f6a1d317b8",
   "metadata": {},
   "source": [
    "## Quantum Tic Tac Toe - 1 \n",
    "would happen if we insert the concept of **superposition** on it. Let us play one game and then figure out of we understand the game. The rules of the game are the following:\n",
    "- The usual rules of **classical tic tac toe** apply.\n",
    "- The objective is to get three of your marks (X or O) in a row—horizontally, vertically, or diagonally.\n",
    "- You can **create a superposition** by **dragging between two empty squares**.\n",
    "- This move places your mark in a quantum superposition of being in **both squares simultaneously**.\n",
    "- The true position is only revealed after **measurement**.\n",
    "  \n",
    "- At the **end of the game**, a **quantum measurement** is performed.\n",
    "- All superpositions are resolved into classical marks.\n",
    "- You **can do measurements mid-game**, but on this particular website, they **do not affect gameplay mechanics**.\n",
    "- Mid-game measurements are purely observational.\n",
    "\n",
    "### Below I have illustrated an example with no winner "
   ]
  },
  {
   "cell_type": "markdown",
   "id": "b6d54910-ab56-4f5a-9019-b67f30234e49",
   "metadata": {},
   "source": [
    "![My Plot](Figures/Quantum_ttt_superposition.png)"
   ]
  },
  {
   "cell_type": "markdown",
   "id": "05587e80-8df0-49da-9228-9d806ac7d633",
   "metadata": {},
   "source": [
    "## Quantum Tic Tac Toe - 2\n",
    "Now let us incorporate both the concepts of **superposition** and **entanglement**. The rules of the game are the following:\n",
    "- The usual rules of **classical tic tac toe** apply.\n",
    "- The objective is to get three of your marks (X or O) in a row—horizontally, vertically, or diagonally.\n",
    "- You can **create a superposition** by **dragging between two empty squares**.\n",
    "- This move places your mark in a quantum superposition of being in **both squares simultaneously**.\n",
    "- The true position is only revealed after **measurement**.\n",
    "- You can **create entanglement** by **dragging from a filled square to an empty one**.\n",
    "- This links the squares—resolving one affects the outcome of the other.\n",
    "  \n",
    "- At the **end of the game**, a **quantum measurement** is performed.\n",
    "- All superpositions and entanglements are resolved into classical marks.\n",
    "- You **can do measurements mid-game**, but on this particular website, they **do not affect gameplay mechanics**.\n",
    "- Mid-game measurements are purely observational.\n",
    "\n",
    "### Below I have illustrated an example with no winner "
   ]
  },
  {
   "cell_type": "markdown",
   "id": "f0c1f30a-1e49-4538-a0a4-faf67ec671c1",
   "metadata": {},
   "source": [
    "![My Plot](Figures/Quantum_ttt_super_entangle.png)"
   ]
  },
  {
   "cell_type": "code",
   "execution_count": null,
   "id": "c48c8a22-431f-42dc-b145-97705fbba3aa",
   "metadata": {},
   "outputs": [],
   "source": []
  }
 ],
 "metadata": {
  "kernelspec": {
   "display_name": "Python 3 (ipykernel)",
   "language": "python",
   "name": "python3"
  },
  "language_info": {
   "codemirror_mode": {
    "name": "ipython",
    "version": 3
   },
   "file_extension": ".py",
   "mimetype": "text/x-python",
   "name": "python",
   "nbconvert_exporter": "python",
   "pygments_lexer": "ipython3",
   "version": "3.8.19"
  }
 },
 "nbformat": 4,
 "nbformat_minor": 5
}
